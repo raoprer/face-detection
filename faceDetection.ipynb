{
 "cells": [
  {
   "cell_type": "code",
   "execution_count": 1,
   "id": "502736ad",
   "metadata": {},
   "outputs": [],
   "source": [
    "import cv2\n",
    "import time"
   ]
  },
  {
   "cell_type": "code",
   "execution_count": null,
   "id": "f226aa79",
   "metadata": {},
   "outputs": [
    {
     "name": "stdout",
     "output_type": "stream",
     "text": [
      "Press S to save the image\n",
      "Press S to save the image\n"
     ]
    }
   ],
   "source": [
    "class face_viewer:\n",
    "    \n",
    "    def __init__(self):\n",
    "        self.cap = cv2.VideoCapture(0)\n",
    "        self.time_started = False\n",
    "        self.count = 1 \n",
    "        self.detect_face()\n",
    "    \n",
    "    def take_snapshot(self, frame):\n",
    "        self.time_started = True\n",
    "        print(\"Press S to save the image\")\n",
    "        ch = cv2.waitKey(3000)\n",
    "        if ch==ord('s'):\n",
    "            cv2.imwrite(str(self.count)+'.jpg', frame)\n",
    "            self.count = self.count+1\n",
    "            print(\"Saved\")\n",
    "            \n",
    "    def detect_face(self):\n",
    "        while True:\n",
    "            ret, frame = self.cap.read()\n",
    "            if frame is None:\n",
    "                print(\"No frame detected\")\n",
    "            else:\n",
    "                gray_img = cv2.cvtColor(frame, cv2.COLOR_BGR2GRAY)\n",
    "                haar_cascade = cv2.CascadeClassifier('haarcascades\\haarcascade_frontalface_alt.xml')\n",
    "                faces_rect = haar_cascade.detectMultiScale(gray_img, scaleFactor = 1.05, minNeighbors = 9, minSize = (30, 30), flags = cv2.CASCADE_SCALE_IMAGE)\n",
    "                for(x,y,w,h) in faces_rect:\n",
    "                    cv2.rectangle(frame, (x,y),(x+w, y+h),(0,255,0),2)\n",
    "                    \n",
    "                if len(faces_rect)>0 and self.time_started == False:\n",
    "                    prev_time = int(time.time())\n",
    "                    self.take_snapshot(frame)\n",
    "    \n",
    "                curr_time = int(time.time())\n",
    "\n",
    "                if self.time_started:\n",
    "                    if (curr_time-prev_time>10):\n",
    "                        self.time_started = False\n",
    "                        cv2.destroyAllWindows()\n",
    "                        prev_time = time.time()\n",
    "        \n",
    "                cv2.imshow(\"face\", frame)\n",
    "                if cv2.waitKey(1) & 0xFF == ord('q'):\n",
    "                    break\n",
    "        self.cap.release()\n",
    "        cv2.destroyAllWindows()\n",
    "            \n",
    "if __name__ == \"__main__\":\n",
    "    face_viewer()\n"
   ]
  },
  {
   "cell_type": "code",
   "execution_count": null,
   "id": "20e66ea4",
   "metadata": {},
   "outputs": [],
   "source": []
  }
 ],
 "metadata": {
  "kernelspec": {
   "display_name": "Python 3 (ipykernel)",
   "language": "python",
   "name": "python3"
  },
  "language_info": {
   "codemirror_mode": {
    "name": "ipython",
    "version": 3
   },
   "file_extension": ".py",
   "mimetype": "text/x-python",
   "name": "python",
   "nbconvert_exporter": "python",
   "pygments_lexer": "ipython3",
   "version": "3.9.13"
  }
 },
 "nbformat": 4,
 "nbformat_minor": 5
}
